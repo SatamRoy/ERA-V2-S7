{
  "nbformat": 4,
  "nbformat_minor": 0,
  "metadata": {
    "colab": {
      "provenance": [],
      "gpuType": "T4"
    },
    "kernelspec": {
      "name": "python3",
      "display_name": "Python 3"
    },
    "language_info": {
      "name": "python"
    },
    "accelerator": "GPU"
  },
  "cells": [
    {
      "cell_type": "markdown",
      "source": [
        "# Build a model to achieve more than 99.40% test accuracy\n",
        "## Targets\n",
        "* **Number of Parameters**: Less than 8 k\n",
        "* **Image Augmentation** to increases the diversity of the dataset and the robustness of the model\n",
        "* Added **Learning rate schedular** faster convergence\n",
        "* And Finally to get more than **99.40% test accuracy** in approximately 15 epochs"
      ],
      "metadata": {
        "id": "lDbBCCGoGbzv"
      }
    },
    {
      "cell_type": "markdown",
      "source": [
        "## Import Libraries"
      ],
      "metadata": {
        "id": "xl2lQ39IHfNF"
      }
    },
    {
      "cell_type": "code",
      "source": [
        "from __future__ import print_function\n",
        "import torch\n",
        "import torch.nn as nn\n",
        "import torch.nn.functional as F\n",
        "import torch.optim as optim\n",
        "from torchvision import datasets, transforms"
      ],
      "metadata": {
        "id": "9hZA79HlHd_b"
      },
      "execution_count": null,
      "outputs": []
    },
    {
      "cell_type": "markdown",
      "source": [
        "## Add Data Transformer, Data Loaders and training and testing data"
      ],
      "metadata": {
        "id": "NmPzvI5ZHrub"
      }
    },
    {
      "cell_type": "code",
      "source": [
        "#Data Transformations\n",
        "\n",
        "# Train Phase transformations\n",
        "train_transforms = transforms.Compose([\n",
        "                                       transforms.RandomRotation((-4.0, 4.0), fill=(1,)), # Added data augmentation\n",
        "                                       transforms.ToTensor(),\n",
        "                                       transforms.Normalize((0.1307,), (0.3081,))\n",
        "                                       ])\n",
        "\n",
        "# Test Phase transformations\n",
        "test_transforms = transforms.Compose([transforms.ToTensor(),\n",
        "                                       transforms.Normalize((0.1307,), (0.3081,))\n",
        "                                       ])\n",
        "# Load Train and Test Data\n",
        "train = datasets.MNIST('./data', train=True, download=True, transform=train_transforms)\n",
        "test = datasets.MNIST('./data', train=False, download=True, transform=test_transforms)\n",
        "\n",
        "# Configure Test/Train Dataloaders\n",
        "SEED = 1\n",
        "\n",
        "# CUDA?\n",
        "cuda = torch.cuda.is_available()\n",
        "print(\"CUDA Available?\", cuda)\n",
        "\n",
        "# For reproducibility\n",
        "torch.manual_seed(SEED)\n",
        "\n",
        "if cuda:\n",
        "    torch.cuda.manual_seed(SEED)\n",
        "\n",
        "# dataloader arguments - something you'll fetch these from cmdprmt\n",
        "dataloader_args = dict(shuffle=True, batch_size=128, num_workers=4, pin_memory=True) if cuda else dict(shuffle=True, batch_size=64)\n",
        "\n",
        "# train dataloader\n",
        "train_loader = torch.utils.data.DataLoader(train, **dataloader_args)\n",
        "\n",
        "# test dataloader\n",
        "test_loader = torch.utils.data.DataLoader(test, **dataloader_args)"
      ],
      "metadata": {
        "colab": {
          "base_uri": "https://localhost:8080/"
        },
        "id": "xPZjWGDwHk8u",
        "outputId": "e37c8da7-8ab2-49da-d724-bc8acdd19716"
      },
      "execution_count": null,
      "outputs": [
        {
          "output_type": "stream",
          "name": "stdout",
          "text": [
            "CUDA Available? True\n"
          ]
        }
      ]
    },
    {
      "cell_type": "markdown",
      "source": [
        "##Model Defination"
      ],
      "metadata": {
        "id": "DLH0xTD-IVIA"
      }
    },
    {
      "cell_type": "code",
      "source": [
        "class Model4(nn.Module):\n",
        "    def __init__(self):\n",
        "        super(Model4, self).__init__()\n",
        "        self.convblock1 = nn.Sequential(\n",
        "            nn.Conv2d(in_channels=1, out_channels=3, kernel_size=(3, 3), padding=1, bias=False),\n",
        "            nn.ReLU(),\n",
        "            nn.BatchNorm2d(3),\n",
        "            nn.Dropout(0.05)\n",
        "        )\n",
        "        self.convblock2 = nn.Sequential(\n",
        "            nn.Conv2d(in_channels=3, out_channels=5, kernel_size=(3, 3), padding=1, bias=False),\n",
        "            nn.ReLU(),\n",
        "            nn.BatchNorm2d(5),\n",
        "            nn.Dropout(0.05)\n",
        "        )\n",
        "        self.pool1 = nn.MaxPool2d(2, 2)\n",
        "        self.convblock3 = nn.Sequential(\n",
        "            nn.Conv2d(in_channels=5, out_channels=10, kernel_size=(3, 3), padding=0, bias=False),\n",
        "            nn.ReLU(),\n",
        "            nn.BatchNorm2d(10),\n",
        "            nn.Dropout(0.05)\n",
        "        )\n",
        "\n",
        "        self.convblock4 = nn.Sequential(\n",
        "            nn.Conv2d(in_channels=10, out_channels=16, kernel_size=(3, 3), padding=0, bias=False),\n",
        "            nn.ReLU(),\n",
        "            nn.BatchNorm2d(16),\n",
        "            nn.Dropout(0.05)\n",
        "        )\n",
        "\n",
        "        self.convblock5 = nn.Sequential(\n",
        "            nn.Conv2d(in_channels=16, out_channels=24, kernel_size=(3, 3), padding=0, bias=False),\n",
        "            nn.ReLU(),\n",
        "            nn.BatchNorm2d(24),\n",
        "            #nn.Dropout(0.1)\n",
        "        )\n",
        "        self.convblock6 = nn.Sequential(\n",
        "            nn.Conv2d(in_channels=24, out_channels=10, kernel_size=(3, 3), padding=0, bias=False),\n",
        "            nn.ReLU(),\n",
        "            nn.BatchNorm2d(10),\n",
        "            #nn.Dropout(0.1)\n",
        "        )\n",
        "\n",
        "        self.global_avg_pooling = nn.Sequential(\n",
        "            nn.AdaptiveAvgPool2d(1)\n",
        "        )\n",
        "\n",
        "\n",
        "\n",
        "    def forward(self, x):\n",
        "        x = self.convblock1(x)\n",
        "        x = self.convblock2(x)\n",
        "        x = self.pool1(x)\n",
        "        x = self.convblock3(x)\n",
        "        x = self.convblock4(x)\n",
        "        x = self.convblock5(x)\n",
        "        x = self.convblock6(x)\n",
        "        x = self.global_avg_pooling(x)\n",
        "        x = x.view(-1, 10)\n",
        "        return F.log_softmax(x, dim=-1)"
      ],
      "metadata": {
        "id": "ykEl_csBIW8X"
      },
      "execution_count": null,
      "outputs": []
    },
    {
      "cell_type": "code",
      "source": [
        "!pip install torchsummary\n",
        "from torchsummary import summary\n",
        "use_cuda = torch.cuda.is_available()\n",
        "device = torch.device(\"cuda\" if use_cuda else \"cpu\")\n",
        "print(device)\n",
        "model = Model4().to(device)\n",
        "summary(model, input_size=(1, 28, 28))"
      ],
      "metadata": {
        "colab": {
          "base_uri": "https://localhost:8080/"
        },
        "id": "ESvHsSUnLkM_",
        "outputId": "7a5c50c6-d5ee-4492-9c14-6a14e0765d3d"
      },
      "execution_count": null,
      "outputs": [
        {
          "output_type": "stream",
          "name": "stdout",
          "text": [
            "Requirement already satisfied: torchsummary in /usr/local/lib/python3.10/dist-packages (1.5.1)\n",
            "cuda\n",
            "----------------------------------------------------------------\n",
            "        Layer (type)               Output Shape         Param #\n",
            "================================================================\n",
            "            Conv2d-1            [-1, 3, 28, 28]              27\n",
            "              ReLU-2            [-1, 3, 28, 28]               0\n",
            "       BatchNorm2d-3            [-1, 3, 28, 28]               6\n",
            "           Dropout-4            [-1, 3, 28, 28]               0\n",
            "            Conv2d-5            [-1, 5, 28, 28]             135\n",
            "              ReLU-6            [-1, 5, 28, 28]               0\n",
            "       BatchNorm2d-7            [-1, 5, 28, 28]              10\n",
            "           Dropout-8            [-1, 5, 28, 28]               0\n",
            "         MaxPool2d-9            [-1, 5, 14, 14]               0\n",
            "           Conv2d-10           [-1, 10, 12, 12]             450\n",
            "             ReLU-11           [-1, 10, 12, 12]               0\n",
            "      BatchNorm2d-12           [-1, 10, 12, 12]              20\n",
            "          Dropout-13           [-1, 10, 12, 12]               0\n",
            "           Conv2d-14           [-1, 16, 10, 10]           1,440\n",
            "             ReLU-15           [-1, 16, 10, 10]               0\n",
            "      BatchNorm2d-16           [-1, 16, 10, 10]              32\n",
            "          Dropout-17           [-1, 16, 10, 10]               0\n",
            "           Conv2d-18             [-1, 24, 8, 8]           3,456\n",
            "             ReLU-19             [-1, 24, 8, 8]               0\n",
            "      BatchNorm2d-20             [-1, 24, 8, 8]              48\n",
            "           Conv2d-21             [-1, 10, 6, 6]           2,160\n",
            "             ReLU-22             [-1, 10, 6, 6]               0\n",
            "      BatchNorm2d-23             [-1, 10, 6, 6]              20\n",
            "AdaptiveAvgPool2d-24             [-1, 10, 1, 1]               0\n",
            "================================================================\n",
            "Total params: 7,804\n",
            "Trainable params: 7,804\n",
            "Non-trainable params: 0\n",
            "----------------------------------------------------------------\n",
            "Input size (MB): 0.00\n",
            "Forward/backward pass size (MB): 0.34\n",
            "Params size (MB): 0.03\n",
            "Estimated Total Size (MB): 0.37\n",
            "----------------------------------------------------------------\n"
          ]
        }
      ]
    },
    {
      "cell_type": "markdown",
      "source": [
        "##Training and Testing"
      ],
      "metadata": {
        "id": "p6NswXZyLnlr"
      }
    },
    {
      "cell_type": "code",
      "source": [
        "from tqdm import tqdm\n",
        "\n",
        "train_losses = []\n",
        "test_losses = []\n",
        "train_acc = []\n",
        "test_acc = []\n",
        "\n",
        "def train(model, device, train_loader, optimizer, epoch):\n",
        "  model.train()\n",
        "  pbar = tqdm(train_loader)\n",
        "  correct = 0\n",
        "  processed = 0\n",
        "  for batch_idx, (data, target) in enumerate(pbar):\n",
        "    # get samples\n",
        "    data, target = data.to(device), target.to(device)\n",
        "\n",
        "    # Init\n",
        "    optimizer.zero_grad()\n",
        "    # In PyTorch, we need to set the gradients to zero before starting to do backpropragation because PyTorch accumulates the gradients on subsequent backward passes.\n",
        "    # Because of this, when you start your training loop, ideally you should zero out the gradients so that you do the parameter update correctly.\n",
        "\n",
        "    # Predict\n",
        "    y_pred = model(data)\n",
        "\n",
        "    # Calculate loss\n",
        "    loss = F.nll_loss(y_pred, target)\n",
        "    train_losses.append(loss)\n",
        "\n",
        "    # Backpropagation\n",
        "    loss.backward()\n",
        "    optimizer.step()\n",
        "\n",
        "    # Update pbar-tqdm\n",
        "\n",
        "    pred = y_pred.argmax(dim=1, keepdim=True)  # get the index of the max log-probability\n",
        "    correct += pred.eq(target.view_as(pred)).sum().item()\n",
        "    processed += len(data)\n",
        "\n",
        "    pbar.set_description(desc= f'Loss={loss.item()} Batch_id={batch_idx} Accuracy={100*correct/processed:0.2f}')\n",
        "    train_acc.append(100*correct/processed)\n",
        "\n",
        "def test(model, device, test_loader):\n",
        "    model.eval()\n",
        "    test_loss = 0\n",
        "    correct = 0\n",
        "    with torch.no_grad():\n",
        "        for data, target in test_loader:\n",
        "            data, target = data.to(device), target.to(device)\n",
        "            output = model(data)\n",
        "            test_loss += F.nll_loss(output, target, reduction='sum').item()  # sum up batch loss\n",
        "            pred = output.argmax(dim=1, keepdim=True)  # get the index of the max log-probability\n",
        "            correct += pred.eq(target.view_as(pred)).sum().item()\n",
        "\n",
        "    test_loss /= len(test_loader.dataset)\n",
        "    test_losses.append(test_loss)\n",
        "\n",
        "    print('\\nTest set: Average loss: {:.4f}, Accuracy: {}/{} ({:.2f}%)\\n'.format(\n",
        "        test_loss, correct, len(test_loader.dataset),\n",
        "        100. * correct / len(test_loader.dataset)))\n",
        "\n",
        "    test_acc.append(100. * correct / len(test_loader.dataset))"
      ],
      "metadata": {
        "id": "8pq9X4dZLk8V"
      },
      "execution_count": null,
      "outputs": []
    },
    {
      "cell_type": "markdown",
      "source": [
        "##Start Training and Testing"
      ],
      "metadata": {
        "id": "xDnNqWeVLuYv"
      }
    },
    {
      "cell_type": "code",
      "source": [
        "from torch.optim.lr_scheduler import StepLR\n",
        "\n",
        "model =  Model4().to(device)\n",
        "#optimizer = optim.SGD(model.parameters(), lr=0.1, momentum=0.9)\n",
        "optimizer = optim.Adam(model.parameters(), lr=0.01)\n",
        "scheduler = StepLR(optimizer, step_size=10, gamma=0.1)\n",
        "\n",
        "\n",
        "EPOCHS = 15\n",
        "for epoch in range(EPOCHS):\n",
        "    print(\"EPOCH:\", epoch)\n",
        "    print(\"Learning Rate:\", optimizer.param_groups[0]['lr'])\n",
        "    train(model, device, train_loader, optimizer, epoch)\n",
        "    scheduler.step()\n",
        "    test(model, device, test_loader)"
      ],
      "metadata": {
        "colab": {
          "base_uri": "https://localhost:8080/"
        },
        "id": "PKKHE0meLwp3",
        "outputId": "c02b2adb-ae60-4f07-da94-cd865cad1ea6"
      },
      "execution_count": null,
      "outputs": [
        {
          "output_type": "stream",
          "name": "stdout",
          "text": [
            "EPOCH: 0\n",
            "Learning Rate: 0.01\n"
          ]
        },
        {
          "output_type": "stream",
          "name": "stderr",
          "text": [
            "Loss=0.05533180758357048 Batch_id=468 Accuracy=95.28: 100%|██████████| 469/469 [00:28<00:00, 16.26it/s]\n"
          ]
        },
        {
          "output_type": "stream",
          "name": "stdout",
          "text": [
            "\n",
            "Test set: Average loss: 0.0792, Accuracy: 9796/10000 (97.96%)\n",
            "\n",
            "EPOCH: 1\n",
            "Learning Rate: 0.01\n"
          ]
        },
        {
          "output_type": "stream",
          "name": "stderr",
          "text": [
            "Loss=0.03800760582089424 Batch_id=468 Accuracy=97.97: 100%|██████████| 469/469 [00:21<00:00, 21.69it/s]\n"
          ]
        },
        {
          "output_type": "stream",
          "name": "stdout",
          "text": [
            "\n",
            "Test set: Average loss: 0.0569, Accuracy: 9848/10000 (98.48%)\n",
            "\n",
            "EPOCH: 2\n",
            "Learning Rate: 0.01\n"
          ]
        },
        {
          "output_type": "stream",
          "name": "stderr",
          "text": [
            "Loss=0.034184619784355164 Batch_id=468 Accuracy=98.36: 100%|██████████| 469/469 [00:21<00:00, 21.71it/s]\n"
          ]
        },
        {
          "output_type": "stream",
          "name": "stdout",
          "text": [
            "\n",
            "Test set: Average loss: 0.0473, Accuracy: 9869/10000 (98.69%)\n",
            "\n",
            "EPOCH: 3\n",
            "Learning Rate: 0.01\n"
          ]
        },
        {
          "output_type": "stream",
          "name": "stderr",
          "text": [
            "Loss=0.04799145460128784 Batch_id=468 Accuracy=98.59: 100%|██████████| 469/469 [00:22<00:00, 21.11it/s]\n"
          ]
        },
        {
          "output_type": "stream",
          "name": "stdout",
          "text": [
            "\n",
            "Test set: Average loss: 0.0382, Accuracy: 9885/10000 (98.85%)\n",
            "\n",
            "EPOCH: 4\n",
            "Learning Rate: 0.01\n"
          ]
        },
        {
          "output_type": "stream",
          "name": "stderr",
          "text": [
            "Loss=0.06496890634298325 Batch_id=468 Accuracy=98.72: 100%|██████████| 469/469 [00:22<00:00, 20.48it/s]\n"
          ]
        },
        {
          "output_type": "stream",
          "name": "stdout",
          "text": [
            "\n",
            "Test set: Average loss: 0.0383, Accuracy: 9883/10000 (98.83%)\n",
            "\n",
            "EPOCH: 5\n",
            "Learning Rate: 0.01\n"
          ]
        },
        {
          "output_type": "stream",
          "name": "stderr",
          "text": [
            "Loss=0.05705529451370239 Batch_id=468 Accuracy=98.69: 100%|██████████| 469/469 [00:21<00:00, 21.87it/s]\n"
          ]
        },
        {
          "output_type": "stream",
          "name": "stdout",
          "text": [
            "\n",
            "Test set: Average loss: 0.0278, Accuracy: 9907/10000 (99.07%)\n",
            "\n",
            "EPOCH: 6\n",
            "Learning Rate: 0.01\n"
          ]
        },
        {
          "output_type": "stream",
          "name": "stderr",
          "text": [
            "Loss=0.02823263220489025 Batch_id=468 Accuracy=98.90: 100%|██████████| 469/469 [00:21<00:00, 21.44it/s]\n"
          ]
        },
        {
          "output_type": "stream",
          "name": "stdout",
          "text": [
            "\n",
            "Test set: Average loss: 0.0377, Accuracy: 9888/10000 (98.88%)\n",
            "\n",
            "EPOCH: 7\n",
            "Learning Rate: 0.01\n"
          ]
        },
        {
          "output_type": "stream",
          "name": "stderr",
          "text": [
            "Loss=0.03900691866874695 Batch_id=468 Accuracy=98.93: 100%|██████████| 469/469 [00:22<00:00, 21.23it/s]\n"
          ]
        },
        {
          "output_type": "stream",
          "name": "stdout",
          "text": [
            "\n",
            "Test set: Average loss: 0.0286, Accuracy: 9904/10000 (99.04%)\n",
            "\n",
            "EPOCH: 8\n",
            "Learning Rate: 0.01\n"
          ]
        },
        {
          "output_type": "stream",
          "name": "stderr",
          "text": [
            "Loss=0.011167041957378387 Batch_id=468 Accuracy=98.99: 100%|██████████| 469/469 [00:21<00:00, 21.35it/s]\n"
          ]
        },
        {
          "output_type": "stream",
          "name": "stdout",
          "text": [
            "\n",
            "Test set: Average loss: 0.0245, Accuracy: 9913/10000 (99.13%)\n",
            "\n",
            "EPOCH: 9\n",
            "Learning Rate: 0.01\n"
          ]
        },
        {
          "output_type": "stream",
          "name": "stderr",
          "text": [
            "Loss=0.027655204758048058 Batch_id=468 Accuracy=99.00: 100%|██████████| 469/469 [00:23<00:00, 19.81it/s]\n"
          ]
        },
        {
          "output_type": "stream",
          "name": "stdout",
          "text": [
            "\n",
            "Test set: Average loss: 0.0267, Accuracy: 9916/10000 (99.16%)\n",
            "\n",
            "EPOCH: 10\n",
            "Learning Rate: 0.001\n"
          ]
        },
        {
          "output_type": "stream",
          "name": "stderr",
          "text": [
            "Loss=0.018010670319199562 Batch_id=468 Accuracy=99.31: 100%|██████████| 469/469 [00:22<00:00, 21.16it/s]\n"
          ]
        },
        {
          "output_type": "stream",
          "name": "stdout",
          "text": [
            "\n",
            "Test set: Average loss: 0.0174, Accuracy: 9947/10000 (99.47%)\n",
            "\n",
            "EPOCH: 11\n",
            "Learning Rate: 0.001\n"
          ]
        },
        {
          "output_type": "stream",
          "name": "stderr",
          "text": [
            "Loss=0.007121240720152855 Batch_id=468 Accuracy=99.35: 100%|██████████| 469/469 [00:21<00:00, 21.39it/s]\n"
          ]
        },
        {
          "output_type": "stream",
          "name": "stdout",
          "text": [
            "\n",
            "Test set: Average loss: 0.0167, Accuracy: 9948/10000 (99.48%)\n",
            "\n",
            "EPOCH: 12\n",
            "Learning Rate: 0.001\n"
          ]
        },
        {
          "output_type": "stream",
          "name": "stderr",
          "text": [
            "Loss=0.04693381115794182 Batch_id=468 Accuracy=99.42: 100%|██████████| 469/469 [00:22<00:00, 21.16it/s]\n"
          ]
        },
        {
          "output_type": "stream",
          "name": "stdout",
          "text": [
            "\n",
            "Test set: Average loss: 0.0167, Accuracy: 9951/10000 (99.51%)\n",
            "\n",
            "EPOCH: 13\n",
            "Learning Rate: 0.001\n"
          ]
        },
        {
          "output_type": "stream",
          "name": "stderr",
          "text": [
            "Loss=0.05206076800823212 Batch_id=468 Accuracy=99.39: 100%|██████████| 469/469 [00:22<00:00, 21.11it/s]\n"
          ]
        },
        {
          "output_type": "stream",
          "name": "stdout",
          "text": [
            "\n",
            "Test set: Average loss: 0.0161, Accuracy: 9952/10000 (99.52%)\n",
            "\n",
            "EPOCH: 14\n",
            "Learning Rate: 0.001\n"
          ]
        },
        {
          "output_type": "stream",
          "name": "stderr",
          "text": [
            "Loss=0.0024685985408723354 Batch_id=468 Accuracy=99.47: 100%|██████████| 469/469 [00:22<00:00, 21.11it/s]\n"
          ]
        },
        {
          "output_type": "stream",
          "name": "stdout",
          "text": [
            "\n",
            "Test set: Average loss: 0.0173, Accuracy: 9950/10000 (99.50%)\n",
            "\n"
          ]
        }
      ]
    },
    {
      "cell_type": "markdown",
      "source": [
        "## Plot the graphs"
      ],
      "metadata": {
        "id": "NEjGwhPYZb3X"
      }
    },
    {
      "cell_type": "code",
      "source": [
        "t = [t_items.item() for t_items in train_losses]\n",
        "%matplotlib inline\n",
        "import matplotlib.pyplot as plt\n",
        "fig, axs = plt.subplots(2,2,figsize=(15,10))\n",
        "axs[0, 0].plot(t)\n",
        "axs[0, 0].set_title(\"Training Loss\")\n",
        "axs[1, 0].plot(train_acc)\n",
        "axs[1, 0].set_title(\"Training Accuracy\")\n",
        "axs[0, 1].plot(test_losses)\n",
        "axs[0, 1].set_title(\"Test Loss\")\n",
        "axs[1, 1].plot(test_acc)\n",
        "axs[1, 1].set_title(\"Test Accuracy\")"
      ],
      "metadata": {
        "colab": {
          "base_uri": "https://localhost:8080/",
          "height": 870
        },
        "id": "HuyjI120ZYBK",
        "outputId": "f9551ed4-39c9-46eb-8822-565a3faac67d"
      },
      "execution_count": null,
      "outputs": [
        {
          "output_type": "execute_result",
          "data": {
            "text/plain": [
              "Text(0.5, 1.0, 'Test Accuracy')"
            ]
          },
          "metadata": {},
          "execution_count": 57
        },
        {
          "output_type": "display_data",
          "data": {
            "text/plain": [
              "<Figure size 1500x1000 with 4 Axes>"
            ],
            "image/png": "[encoded data removed]"
          },
          "metadata": {}
        }
      ]
    },
    {
      "cell_type": "markdown",
      "source": [
        "# Result\n",
        "* **Total number of parameters**: 7.6 k\n",
        "* **Best Training Accuracy**: 99.47%\n",
        "* **Best Test Accuracy**: 99.50%"
      ],
      "metadata": {
        "id": "SruDBog0YbLW"
      }
    },
    {
      "cell_type": "markdown",
      "source": [
        "# Analysis\n",
        "* Both training and testing accuracies are very high (more than 99.47%), which indicates that the **model is capable of learning the patterns** in the data effectively\n",
        "* Since the test accuracy is very close to the training accuracy, it seems that the model is **not significantly overfitting or underfitting** --> There is no significant gap between training and test accuracy, which is a positive sign\n",
        "* The close alignment of **training and test accuracy suggests a reasonable fit**"
      ],
      "metadata": {
        "id": "0sHXVafTYkjn"
      }
    }
  ]
}